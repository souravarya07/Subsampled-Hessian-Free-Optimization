{
 "cells": [
  {
   "cell_type": "code",
   "execution_count": 25,
   "id": "095edc27",
   "metadata": {},
   "outputs": [],
   "source": [
    "import numpy as np                \n",
    "import pandas as pd\n",
    "import math\n",
    "import matplotlib.pyplot as plt   \n",
    "import time                       \n",
    "import copy                        \n",
    "from sympy import *               \n",
    "init_printing()                   \n",
    "plt.rcParams['figure.figsize'] = [10, 10] # Set plot size\n",
    "ITERATIONS = 13 "
   ]
  },
  {
   "cell_type": "code",
   "execution_count": 26,
   "id": "93498cf1",
   "metadata": {},
   "outputs": [],
   "source": [
    "wVal=np.array([[4.] ,[2.]])  \n",
    "dVal=np.array([[4.] ,[3.]])"
   ]
  },
  {
   "cell_type": "code",
   "execution_count": 27,
   "id": "816617ea",
   "metadata": {},
   "outputs": [
    {
     "data": {
      "image/png": "[encoded data removed]",
      "text/latex": [
       "$\\displaystyle w_{0}^{2} w_{1}^{2}$"
      ],
      "text/plain": [
       "  2   2\n",
       "w₀ ⋅w₁ "
      ]
     },
     "execution_count": 27,
     "metadata": {},
     "output_type": "execute_result"
    }
   ],
   "source": [
    "w=[]\n",
    "d=[]\n",
    "nVar=2\n",
    "# Creating array symbols w and d in order to perform computation on functions using sympy\n",
    "for i in range(len(wVal)):       \n",
    "    w.append(symbols('w%d'%i))\n",
    "    d.append(symbols('d%d'%i))\n",
    "w=np.array(w)\n",
    "d=np.array(d)\n",
    "fun = w[0]**2*w[1]**2  # F(w) Function Initianization\n",
    "fun.evalf()"
   ]
  },
  {
   "cell_type": "code",
   "execution_count": 28,
   "id": "8c93b3ea",
   "metadata": {},
   "outputs": [],
   "source": [
    "def gradient(fun,w):                   \n",
    "    res = []\n",
    "    for i in range(len(w)):\n",
    "        res.append([diff(fun,w[i])])   # Perform differentiation on the function fun in each variable of the array w\n",
    "    return np.array(res)"
   ]
  },
  {
   "cell_type": "code",
   "execution_count": 29,
   "id": "d53cceed",
   "metadata": {},
   "outputs": [
    {
     "data": {
      "image/png": "[encoded data removed]",
      "text/latex": [
       "$\\displaystyle 2.0 d_{0} w_{0} w_{1}^{2} + 2.0 d_{1} w_{0}^{2} w_{1}$"
      ],
      "text/plain": [
       "            2            2   \n",
       "2.0⋅d₀⋅w₀⋅w₁  + 2.0⋅d₁⋅w₀ ⋅w₁"
      ]
     },
     "execution_count": 29,
     "metadata": {},
     "output_type": "execute_result"
    }
   ],
   "source": [
    "phi=np.dot(gradient(fun,w).T,d) \n",
    "phi[0].evalf()"
   ]
  },
  {
   "cell_type": "code",
   "execution_count": 30,
   "id": "8d5d1f47",
   "metadata": {},
   "outputs": [
    {
     "name": "stdout",
     "output_type": "stream",
     "text": [
      "Hessian vector of F(w) in function of w and d: [[2*d0*w1**2 + 4*d1*w0*w1]\n",
      " [4*d0*w0*w1 + 2*d1*w0**2]]\n"
     ]
    }
   ],
   "source": [
    "gradphi=gradient(phi,w)                  \n",
    "g=gradient(fun,w)\n",
    "gradphi=np.squeeze(gradphi, axis=1)      \n",
    "print (\"Hessian vector of F(w) in function of w and d:\",gradphi)"
   ]
  },
  {
   "cell_type": "code",
   "execution_count": 31,
   "id": "f3eaa343",
   "metadata": {},
   "outputs": [
    {
     "name": "stdout",
     "output_type": "stream",
     "text": [
      "Hessian vector of F(w) in function of d: [[2*d0*w1**2 + 4*d1*w0*w1]\n",
      " [4*d0*w0*w1 + 2*d1*w0**2]]\n",
      "Gradient F(w): [[2*w0*w1**2]\n",
      " [2*w0**2*w1]]\n"
     ]
    }
   ],
   "source": [
    "for i in range(len(w)):\n",
    "    for j in range(len(w)):\n",
    "        gradphi[i]= gradphi[i][0].subs(w[j], wVal[j]) \n",
    "        g[i]=g[i][0].subs(w[j], wVal[j]) \n",
    "print(\"Hessian vector of F(w) in function of d:\",gradphi)\n",
    "print (\"Gradient F(w):\",g)"
   ]
  },
  {
   "cell_type": "code",
   "execution_count": 32,
   "id": "f962ead2",
   "metadata": {},
   "outputs": [
    {
     "data": {
      "text/plain": [
       "array([[2*d0*w1**2 + 4*d1*w0*w1],\n",
       "       [4*d0*w0*w1 + 2*d1*w0**2]], dtype=object)"
      ]
     },
     "execution_count": 32,
     "metadata": {},
     "output_type": "execute_result"
    }
   ],
   "source": [
    "def solveHessianVector(gradphi,dVal):\n",
    "    res = copy.deepcopy(gradphi) # Using deepcopy to copy the variable by value and not reference\n",
    "    d=[]\n",
    "    for i in range(len(dVal)): #Filling symbols vector based on the number of parameters used\n",
    "        d.append(symbols('d%d'%i))\n",
    "    d=np.array(d)\n",
    "    for i in range(len(dVal)):\n",
    "        for j in range(len(dVal)):\n",
    "            res[i][0]= res[i][0].subs(d[j], dVal[j])   #Substituting guess value vector value in the Hessian vector\n",
    "    return res\n",
    "solveHessianVector(gradphi,-g) "
   ]
  },
  {
   "cell_type": "code",
   "execution_count": 33,
   "id": "6419d345",
   "metadata": {},
   "outputs": [
    {
     "name": "stdout",
     "output_type": "stream",
     "text": [
      "start\n",
      "Computation time: 0.0\n",
      "x: [[0.09090909]\n",
      " [0.63636364]]\n",
      "Ax=b: [[1.]\n",
      " [2.]]\n"
     ]
    }
   ],
   "source": [
    "def conjugateGradient(A,b,x):\n",
    "    r = b - np.dot(A, x) \n",
    "    p=r \n",
    "    rOld = np.dot(r.T,r)\n",
    "    for i in range(len(b)):     #Stop iteration corresponding to the size of b\n",
    "        Ap = np.dot(A, p)\n",
    "        alpha = (rOld/np.dot(p.T,Ap))\n",
    "        x = x+alpha*p\n",
    "        r = r - alpha*Ap\n",
    "        rNew = np.dot(r.T,r)\n",
    "        beta = rNew/rOld\n",
    "        p = r + beta*p\n",
    "        rOld = rNew\n",
    "    return x\n",
    "    \n",
    "# Testing Conjugate Gradient\n",
    "A = np.array([[4.,1.],[1.,3.]])\n",
    "b = np.array([[1.],[2.]])\n",
    "x = np.array([[2.],[1.]])\n",
    "t1 = time.time()\n",
    "print('start')\n",
    "x=conjugateGradient(A,b,x)\n",
    "t2 = time.time()\n",
    "print(\"Computation time:\",t2 - t1)\n",
    "print (\"x:\",x)\n",
    "print (\"Ax=b:\",np.dot(A,x))"
   ]
  },
  {
   "cell_type": "code",
   "execution_count": 62,
   "id": "bc1f5884",
   "metadata": {},
   "outputs": [],
   "source": [
    "def NewtonCG(gradphi,b,x):\n",
    "    r = b - solveHessianVector(gradphi,x) #Substituting dot product with the Hessian vector using the guess values \n",
    "    p=r \n",
    "    rOld = np.dot(r.T,r)\n",
    "    for i in range(len(b)):      #Stop iteration corresponding to the size of b, so of the gradient\n",
    "        Ap = solveHessianVector(gradphi,p)\n",
    "        alpha = (rOld/np.dot(p.T,Ap))\n",
    "        x = x+alpha*p\n",
    "        r = r - alpha*Ap\n",
    "        rNew = np.dot(r.T,r)\n",
    "        if sqrt(rNew) < 1e-10:\n",
    "              break;\n",
    "        beta = rNew/rOld\n",
    "        p = r + beta*p\n",
    "        rOld = rNew\n",
    "    return x\n"
   ]
  },
  {
   "cell_type": "code",
   "execution_count": 50,
   "id": "27c25b05",
   "metadata": {},
   "outputs": [
    {
     "data": {
      "image/png": "[encoded data removed]",
      "text/latex": [
       "$\\displaystyle w_{0} + w_{1} x_{0} + w_{2} x_{0}^{2} + w_{3} x_{0}^{3}$"
      ],
      "text/plain": [
       "                  2        3\n",
       "w₀ + w₁⋅x₀ + w₂⋅x₀  + w₃⋅x₀ "
      ]
     },
     "execution_count": 50,
     "metadata": {},
     "output_type": "execute_result"
    }
   ],
   "source": [
    "def generateFun(nw): \n",
    "    w=[]\n",
    "    x=symbols('x0')\n",
    "    for i in range(nw): #Filling symbols vector based on the number of parameters used\n",
    "        w.append(symbols('w%d'%i))\n",
    "    w=np.array(w)\n",
    "    fun=0\n",
    "    #function generation \n",
    "    for i in range(0,nw):\n",
    "        fun += w[i]*np.power(x, i)       \n",
    "    return fun\n",
    "\n",
    "#Testing created function\n",
    "nw=4\n",
    "fun = generateFun(nw)\n",
    "fun"
   ]
  },
  {
   "cell_type": "code",
   "execution_count": 51,
   "id": "2e41224a",
   "metadata": {},
   "outputs": [],
   "source": [
    "def generateDS(fun,wVal,size,noise):\n",
    "    elem=[]\n",
    "    y=[]\n",
    "    clmn =[] \n",
    "    x=[]\n",
    "    w=[]\n",
    "    for i in range(len(wVal)):\n",
    "        elem.append(np.linspace(-2, 2, size))\n",
    "        clmn.append('x%d'%i)\n",
    "        w.append(symbols('w%d'%i))\n",
    "        x.append(symbols('x%d'%i))\n",
    "    clmn.append('y')\n",
    "    res=copy.deepcopy(fun)\n",
    "    for i in range(size):\n",
    "        for k in range(len(wVal)):\n",
    "            res=res.subs(w[k], wVal[k])\n",
    "            res=res.subs(x[k], elem[k][i])\n",
    "        y.append(res +np.random.normal()*noise)\n",
    "        res=copy.deepcopy(fun)\n",
    "    y=np.squeeze(np.array(y))\n",
    "    elem.append(y)\n",
    "    elem=np.array(elem).T   \n",
    "    df= pd.DataFrame(elem, columns=clmn).astype(float)\n",
    "    return df"
   ]
  },
  {
   "cell_type": "code",
   "execution_count": 52,
   "id": "ff113ca4",
   "metadata": {},
   "outputs": [],
   "source": [
    "def solveFun(fun,sample,wVal):\n",
    "    sumf = 0\n",
    "    w=[]\n",
    "    x=[]\n",
    "    for i in range(len(wVal)):\n",
    "        w.append(symbols('w%d'%i))\n",
    "        x.append(symbols('x%d'%i))\n",
    "    y=symbols('y')\n",
    "    fun1=copy.deepcopy(fun)\n",
    "    for i in range(len(sample)):\n",
    "            for j in range(len(fun1)):\n",
    "                for k in range(len(w)):\n",
    "                    fun1[j][0]=fun1[j][0].subs(w[k], wVal[k][0])   #substituting values in the function\n",
    "                    fun1[j][0]=fun1[j][0].subs(x[k], sample.iloc[i][k])\n",
    "                fun1[j][0]=fun1[j][0].subs(y, sample.iloc[i][len(w)]) \n",
    "            sumf+=fun1\n",
    "            fun1=copy.deepcopy(fun)\n",
    "    sumf=sumf/(2.*len(sample))\n",
    "    return sumf"
   ]
  },
  {
   "cell_type": "code",
   "execution_count": 53,
   "id": "968cafda",
   "metadata": {},
   "outputs": [],
   "source": [
    "def selectA(errfun,wVal,res,sampleFut,g):\n",
    "    a=[0.0001,0.0005,0.001,0.005,0.01,0.05,0.1,0.5,1] # Possible learning rates\n",
    "    n=0.01\n",
    "    alpha=0.01\n",
    "    sumF=0\n",
    "    sumFP=0\n",
    "    for i in range(len(a)):   \n",
    "        wVal1=wVal+a[i]*res\n",
    "        sumF=solveFun(errfun,sampleFut,wVal)    \n",
    "        sumFP=solveFun(errfun,sampleFut,wVal1)\n",
    "        if (sumFP<sumF+n*a[i]*np.dot(g.T,res)):\n",
    "            alpha=a[i]\n",
    "    return alpha"
   ]
  },
  {
   "cell_type": "code",
   "execution_count": 54,
   "id": "602c4c71",
   "metadata": {},
   "outputs": [],
   "source": [
    "def subSampledHessianFree(errfun,df,wVal,empErr):\n",
    "    #sh<s\n",
    "    s=40\n",
    "    sh=20\n",
    "    dVal=[]\n",
    "    for i in range(nw):\n",
    "        dVal.append([1.])\n",
    "    dVal=np.array(dVal)\n",
    "    sample=df.sample(s)\n",
    "    sampleh=df.sample(sh)\n",
    "    d=[]\n",
    "    w=[]\n",
    "    x=[]\n",
    "    for i in range(nw): #Filling symbols vector based on the number of parameters used\n",
    "        d.append(symbols('d%d'%i))\n",
    "        w.append(symbols('w%d'%i))\n",
    "        x.append(symbols('x%d'%i))\n",
    "    for i in range(ITERATIONS):\n",
    "        g=gradient(errfun,w)\n",
    "        phi=np.dot(g.T,d)        \n",
    "        gradphi=gradient(phi,w) \n",
    "        gradphi=np.squeeze(gradphi, axis=1) #Vertical squeeze used for good function formatting\n",
    "        sumg=solveFun(g,sample,wVal)\n",
    "        sumgradphi = solveFun(gradphi,sampleh,wVal)\n",
    "        dVal=NewtonCG(sumgradphi,-sumg,dVal)   #compute the conjugate gradient\n",
    "        sample=df.sample(s) # select a random sample of the dataset of size s\n",
    "        sampleh=df.sample(sh)\n",
    "        lr= selectA(np.array([[errfun]]),wVal,dVal,sample,sumg)   #select the best learning rate\n",
    "        wVal=wVal+lr*dVal\n",
    "        empErr.append(np.squeeze(solveFun(np.array([[errfun]]),sample,wVal)))\n",
    "    return wVal"
   ]
  },
  {
   "cell_type": "code",
   "execution_count": 55,
   "id": "e3f881af",
   "metadata": {},
   "outputs": [],
   "source": [
    "def print2D(wValInit,wValFin,empErr):\n",
    "    df.plot.scatter(\"x0\",\"y\",grid=True)\n",
    "    xdf = pd.DataFrame(np.linspace(-2, 2, 20))\n",
    "    ax = plt.axes()\n",
    "    yfin = []\n",
    "    yinit =[]\n",
    "    w=[]\n",
    "    x=[]\n",
    "    for i in range(nw): #Filling symbols vector based on the number of parameters used\n",
    "        w.append(symbols('w%d'%i))\n",
    "        x.append(symbols('x%d'%i))\n",
    "    w=np.array(w)\n",
    "    x=np.array(x)\n",
    "    res1=copy.deepcopy(fun)\n",
    "    res2=copy.deepcopy(fun)\n",
    "    for i in range (20):\n",
    "        res1=res1.subs(x[0], xdf[0][i])\n",
    "        res2=res2.subs(x[0], xdf[0][i])\n",
    "        for j in range(nw):   \n",
    "            res1=res1.subs(w[j], wValFin[j][0])\n",
    "            res2=res2.subs(w[j], wValInit[j][0])\n",
    "        yfin.append(res1)\n",
    "        yinit.append(res2)\n",
    "        res1=copy.deepcopy(fun)\n",
    "        res2=copy.deepcopy(fun)\n",
    "\n",
    "    ax.set_title('Model')\n",
    "    ax.plot(xdf, yfin,color='r',linewidth=2.5)\n",
    "    #ax.plot(xdf, yinit,color='b',linewidth=2.5)   \n",
    "    fig1, ax2 = plt.subplots()\n",
    "    xln = np.linspace(0, ITERATIONS, ITERATIONS)\n",
    "    ax2 = plt.axes()    \n",
    "    ax2.set_title('Empirical Risk')\n",
    "    ax2.set_xlabel('Iterations')\n",
    "    ax2.set_ylabel('Empirical Risk')\n",
    "    plt.grid()\n",
    "    ax2.plot(xln, empErr,linewidth=2.5,)"
   ]
  },
  {
   "cell_type": "code",
   "execution_count": 56,
   "id": "479a1ec1",
   "metadata": {},
   "outputs": [
    {
     "name": "stdout",
     "output_type": "stream",
     "text": [
      "Generated function: w0 + w1*x0\n",
      "Used value of W for generate the Dataset: [-0.37577004  0.04008667]\n",
      "Error function: (w0 + w1*x0 - y)**2\n"
     ]
    }
   ],
   "source": [
    "nw=2\n",
    "size=400\n",
    "wVal = np.random.randn(1,nw)[0]\n",
    "wValInit = []\n",
    "for i in range(nw):\n",
    "        wValInit.append([40])\n",
    "fun = generateFun(nw)\n",
    "noise=1.5\n",
    "df=generateDS(fun,wVal,size,noise)\n",
    "y=symbols('y')\n",
    "errfun=(fun -y)**2\n",
    "print (\"Generated function:\",fun)\n",
    "print (\"Used value of W for generate the Dataset:\",wVal)\n",
    "print (\"Error function:\",errfun)"
   ]
  },
  {
   "cell_type": "code",
   "execution_count": null,
   "id": "ae5ee094",
   "metadata": {},
   "outputs": [],
   "source": []
  },
  {
   "cell_type": "code",
   "execution_count": null,
   "id": "b5672157",
   "metadata": {},
   "outputs": [],
   "source": []
  },
  {
   "cell_type": "code",
   "execution_count": null,
   "id": "5fa187ab",
   "metadata": {},
   "outputs": [],
   "source": []
  },
  {
   "cell_type": "code",
   "execution_count": null,
   "id": "2c94a57d",
   "metadata": {},
   "outputs": [],
   "source": []
  }
 ],
 "metadata": {
  "kernelspec": {
   "display_name": "Python 3",
   "language": "python",
   "name": "python3"
  },
  "language_info": {
   "codemirror_mode": {
    "name": "ipython",
    "version": 3
   },
   "file_extension": ".py",
   "mimetype": "text/x-python",
   "name": "python",
   "nbconvert_exporter": "python",
   "pygments_lexer": "ipython3",
   "version": "3.8.8"
  }
 },
 "nbformat": 4,
 "nbformat_minor": 5
}
